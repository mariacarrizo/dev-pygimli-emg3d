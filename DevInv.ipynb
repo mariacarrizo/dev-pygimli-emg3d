{
 "cells": [
  {
   "cell_type": "markdown",
   "id": "49f2dccb",
   "metadata": {},
   "source": [
    "# Draft `pyGIMLi(emg3d)`\n",
    "\n",
    "**NEEDS**\n",
    "- `pyGIMLi`\n",
    "- `emg3d`\n",
    "- `discretize`\n",
    "- `xarray`\n",
    "- `h5py`\n",
    "\n",
    "\n",
    "An attempt at using `pyGIMLi` as an inversion framework for `emg3d` computations.\n",
    "\n",
    "For developping purposes, we take a very simple grid/model/survey:\n",
    "- Coarse mesh, no stretching (potentially too small).\n",
    "- Simple double-halfspace model water-subsurface with a resistive block.\n",
    "- Survey: A single 2D line, 6 sources, 1 frequency.\n",
    "\n",
    "=> For this dev-implementation we also do inversion crime, using the same grid for forward modelling and inversion."
   ]
  },
  {
   "cell_type": "code",
   "execution_count": null,
   "id": "b9e884b3",
   "metadata": {},
   "outputs": [],
   "source": [
    "import emg3d\n",
    "import numpy as np\n",
    "import pygimli as pg\n",
    "import matplotlib.pyplot as plt\n",
    "from matplotlib.colors import LogNorm, SymLogNorm"
   ]
  },
  {
   "cell_type": "code",
   "execution_count": null,
   "id": "284da314",
   "metadata": {},
   "outputs": [],
   "source": [
    "%matplotlib notebook"
   ]
  },
  {
   "cell_type": "markdown",
   "id": "6bae9abc",
   "metadata": {},
   "source": [
    "## Load survey (incl. data) and initial model"
   ]
  },
  {
   "cell_type": "code",
   "execution_count": null,
   "id": "3a8fde72",
   "metadata": {},
   "outputs": [],
   "source": [
    "data = emg3d.load('pginv.h5')\n",
    "survey = data['survey']\n",
    "model = data['model']\n",
    "grid = model.grid"
   ]
  },
  {
   "cell_type": "markdown",
   "id": "38031152",
   "metadata": {},
   "source": [
    "## Jacobian Wrapper"
   ]
  },
  {
   "cell_type": "code",
   "execution_count": null,
   "id": "44edb734",
   "metadata": {},
   "outputs": [],
   "source": [
    "class EMG3DJacobian(pg.Matrix):\n",
    "    \n",
    "    def __init__(self, sim):\n",
    "        super().__init__()\n",
    "        self.sim = sim\n",
    "\n",
    "    def cols(self):\n",
    "        # sim.model.size corresponds to the number of cells\n",
    "        return self.sim.model.size\n",
    "\n",
    "    def rows(self):\n",
    "        # sim.survey.count corresponds to the number of non-NaN data points.\n",
    "        return self.sim.survey.count\n",
    "\n",
    "    def mult(self, x):\n",
    "        \"\"\"J * x \"\"\"\n",
    "        \n",
    "        # If x is a vector of size model.size, we must reshape it to shape (nx, ny, nz)\n",
    "        # (isotropic case; we can expand this later to VTI and triaxial isotropy)\n",
    "        return self.sim.jvec(x.reshape(self.sim.model.shape, order='F'))\n",
    "\n",
    "    def transMult(self, x):\n",
    "        \"\"\"J.T * x = (x * J.T)^T \"\"\"\n",
    "        \n",
    "        # x must be a vector with the shape of the data, (nsrc, nrec, nfreq).\n",
    "        # That might be fiddly, just ping me to help with that.\n",
    "        return self.sim.jtvec(x)"
   ]
  },
  {
   "cell_type": "markdown",
   "id": "d7b1009f",
   "metadata": {},
   "source": [
    "## Forward Wrapper"
   ]
  },
  {
   "cell_type": "code",
   "execution_count": null,
   "id": "8178e349",
   "metadata": {},
   "outputs": [],
   "source": [
    "class MyFWD(pg.Modelling):\n",
    "    \n",
    "    def __init__(self, sim):\n",
    "        self.super()\n",
    "        \n",
    "        # Store the simulation\n",
    "        # (I replaced «fop» by «sim».)\n",
    "        self.sim = sim\n",
    "        \n",
    "        # Do we need to translate the discretize mesh into a pg-mesh?\n",
    "        # The cell widths hx;hy;hz and origin would be given by:\n",
    "        # - hx: sim.model.grid.h[0]\n",
    "        # - hy: sim.model.grid.h[1]\n",
    "        # - hz: sim.model.grid.h[2]\n",
    "        # - origin: sim.model.grid.origin\n",
    "        # \n",
    "        # The grid in emg3d is always an, optionally stretched, TensorMesh.\n",
    "        # As such, hx, hy, hz, and origin is enough to build it.\n",
    "        self.mesh = pg.createGrid(...)\n",
    "        \n",
    "        self.J = EMG3DJacobian(self)\n",
    "        self.setJacobian(self.J)\n",
    "\n",
    "    def response(self, model):\n",
    "        # do a lot of checks and cleanups\n",
    "        \n",
    "        # Clean emg3d-simulation, so things are recomputed\n",
    "        self.sim.clean('computed')\n",
    "        \n",
    "        # Replace model\n",
    "        self.sim.model = model\n",
    "        \n",
    "        # Compute responses for new model\n",
    "        self.sim.compute()\n",
    "        \n",
    "        # Return the responses\n",
    "        return self.sim.data.synthetic.data\n",
    "    \n",
    "    # I assume, for the misfit you also need to access the observed data:\n",
    "    # => obs = self.sim.data.observed.data\n",
    "    #\n",
    "    # There can be observed data that have NaN's.\n",
    "    # These src-rec-freq pairs are to be ignored.\n",
    "\n",
    "    def createJacobian(self, model):\n",
    "        pass  # do nothing"
   ]
  },
  {
   "cell_type": "markdown",
   "id": "b94a4de1",
   "metadata": {},
   "source": [
    "## Run an inversion"
   ]
  },
  {
   "cell_type": "code",
   "execution_count": null,
   "id": "ca0306b6",
   "metadata": {},
   "outputs": [],
   "source": [
    "# Create an emg3d Simulation instance\n",
    "emg3d_sim = emg3d.simulations.Simulation(\n",
    "    survey=survey,\n",
    "    model=model,\n",
    "    gridding='same',  # I will like to make that more flexible in the future\n",
    "    max_workers=6,    # Adjust as needed\n",
    "    receiver_interpolation='linear',  # Currently necessary for the gradient\n",
    "    # solver_opts,\n",
    "    tqdm_opts=False,  # Switch off verbose progress bars\n",
    ")\n",
    "\n",
    "fop = MyFWD(emg3d_sim)\n",
    "INV = pg.Inversion(fop=fop)\n",
    "\n",
    "# Regularization: Setting active/passive cells would be great,\n",
    "# e.g., de-activating air and water for the inversion.\n",
    "# And of course other regularizations (smoothness etc).\n",
    "# INV.setRegularization(limits=[], correlationLengths=[...])\n",
    "\n",
    "model = INV.run(dataVector, errorVector)"
   ]
  },
  {
   "cell_type": "code",
   "execution_count": null,
   "id": "14b5ccbe",
   "metadata": {},
   "outputs": [],
   "source": [
    "emg3d.Report(['pygimli', 'pgcore'])"
   ]
  }
 ],
 "metadata": {
  "kernelspec": {
   "display_name": "Python 3 (ipykernel)",
   "language": "python",
   "name": "python3"
  },
  "language_info": {
   "codemirror_mode": {
    "name": "ipython",
    "version": 3
   },
   "file_extension": ".py",
   "mimetype": "text/x-python",
   "name": "python",
   "nbconvert_exporter": "python",
   "pygments_lexer": "ipython3",
   "version": "3.9.10"
  }
 },
 "nbformat": 4,
 "nbformat_minor": 5
}
