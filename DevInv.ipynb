{
 "cells": [
  {
   "cell_type": "markdown",
   "id": "49f2dccb",
   "metadata": {},
   "source": [
    "# Draft `pyGIMLi(emg3d)`\n",
    "\n",
    "**NEEDS**\n",
    "- `pyGIMLi`\n",
    "- `emg3d`\n",
    "- `discretize`\n",
    "- `xarray`\n",
    "- `h5py`\n",
    "\n",
    "**Current Limitations**\n",
    "- Only isotropic models supported, without el. perm. and magn. perm.\n",
    "\n",
    "An attempt at using `pyGIMLi` as an inversion framework for `emg3d` computations.\n",
    "\n",
    "For developping purposes, we take a very simple grid/model/survey:\n",
    "- Coarse mesh, no stretching (potentially too small).\n",
    "- Simple double-halfspace model water-subsurface with a resistive block.\n",
    "- Survey: A single 2D line, 6 sources, 1 frequency.\n",
    "\n",
    "=> For this dev-implementation we also do inversion crime, using the same grid for forward modelling and inversion."
   ]
  },
  {
   "cell_type": "code",
   "execution_count": null,
   "id": "b9e884b3",
   "metadata": {},
   "outputs": [],
   "source": [
    "import emg3d\n",
    "import numpy as np\n",
    "import pygimli as pg\n",
    "import matplotlib.pyplot as plt\n",
    "from matplotlib.colors import LogNorm, SymLogNorm"
   ]
  },
  {
   "cell_type": "code",
   "execution_count": null,
   "id": "284da314",
   "metadata": {},
   "outputs": [],
   "source": [
    "%matplotlib notebook"
   ]
  },
  {
   "cell_type": "markdown",
   "id": "6bae9abc",
   "metadata": {},
   "source": [
    "## Load survey (incl. data) and initial model"
   ]
  },
  {
   "cell_type": "code",
   "execution_count": null,
   "id": "3a8fde72",
   "metadata": {},
   "outputs": [],
   "source": [
    "data = emg3d.load('pginv.h5')\n",
    "survey = data['survey']\n",
    "model = data['model']\n",
    "grid = model.grid"
   ]
  },
  {
   "cell_type": "markdown",
   "id": "38031152",
   "metadata": {},
   "source": [
    "## Jacobian Wrapper"
   ]
  },
  {
   "cell_type": "code",
   "execution_count": null,
   "id": "44edb734",
   "metadata": {},
   "outputs": [],
   "source": [
    "class EMG3DJacobian(pg.Matrix):\n",
    "    \n",
    "    def __init__(self, sim):\n",
    "        super().__init__()\n",
    "        self.sim = sim\n",
    "\n",
    "    def cols(self):\n",
    "        # sim.model.size corresponds to the number of cells\n",
    "        return self.sim.model.size\n",
    "\n",
    "    def rows(self):\n",
    "        # sim.survey.count corresponds to the number of non-NaN data points.\n",
    "        return self.sim.survey.count\n",
    "\n",
    "    def mult(self, x):\n",
    "        \"\"\"J * x \"\"\"\n",
    "        # reshape or ravel\n",
    "        jvec = self.sim.jvec(x.reshape(self.sim.model.shape, order='F'))\n",
    "        data = jvec[self.sim._finite_data]\n",
    "        return np.hstack((data.real, data.imag))\n",
    "\n",
    "    def transMult(self, x):\n",
    "        \"\"\"J.T * x = (x * J.T)^T \"\"\"\n",
    "        data = np.ones(survey.data.observed.shape, dtype=self.sim.data.observed.dtype)*np.nan\n",
    "        data[self.sim._finite_data] = x[:x.size//2] + 1j*x[x.size//2:]\n",
    "        return self.sim.jtvec(data).ravel('F')"
   ]
  },
  {
   "cell_type": "markdown",
   "id": "d7b1009f",
   "metadata": {},
   "source": [
    "## Forward Wrapper"
   ]
  },
  {
   "cell_type": "code",
   "execution_count": null,
   "id": "8178e349",
   "metadata": {},
   "outputs": [],
   "source": [
    "class MyFWD(pg.Modelling):\n",
    "    \n",
    "    def __init__(self, sim):\n",
    "        \n",
    "        # Should it be here or at the end of the __init__?\n",
    "        super().__init__()\n",
    "        \n",
    "        # Store the simulation\n",
    "        # (I replaced «fop» by «sim».)\n",
    "        self.sim = sim\n",
    "        \n",
    "        # Translate discretize TensorMesh to pg-Grid\n",
    "        self.mesh = pg.createGrid(\n",
    "            x=sim.model.grid.nodes_x,\n",
    "            y=sim.model.grid.nodes_y,\n",
    "            z=sim.model.grid.nodes_z,\n",
    "        )\n",
    "        \n",
    "        self.J = EMG3DJacobian(sim)\n",
    "        self.setJacobian(self.J)\n",
    "\n",
    "    def response(self, model):\n",
    "        # do a lot of checks and cleanups\n",
    "        \n",
    "        # Clean emg3d-simulation, so things are recomputed\n",
    "        self.sim.clean('computed')\n",
    "        \n",
    "        # Replace model\n",
    "        self.sim.model = emg3d.Model(self.sim.model.grid, property_x=model)\n",
    "        \n",
    "        # Compute responses for new model\n",
    "        self.sim.compute()\n",
    "        \n",
    "        # Return the responses\n",
    "        data = self.sim.data.synthetic.data[self.sim._finite_data]\n",
    "        return np.hstack((data.real, data.imag))\n",
    "    \n",
    "    def createStartModel(self, dataVals):\n",
    "        return np.ones(self.sim.model.size)\n",
    "    \n",
    "    def createJacobian(self, model):\n",
    "        pass  # do nothing"
   ]
  },
  {
   "cell_type": "markdown",
   "id": "b94a4de1",
   "metadata": {},
   "source": [
    "## Run an inversion"
   ]
  },
  {
   "cell_type": "code",
   "execution_count": null,
   "id": "07e74fae",
   "metadata": {},
   "outputs": [],
   "source": [
    "# Create an emg3d Simulation instance\n",
    "sim = emg3d.simulations.Simulation(\n",
    "    survey=survey,\n",
    "    model=model,\n",
    "    gridding='same',  # I will like to make that more flexible in the future\n",
    "    max_workers=6,    # Adjust as needed\n",
    "    receiver_interpolation='linear',  # Currently necessary for the gradient\n",
    "    # solver_opts,\n",
    "    tqdm_opts=False,  # Switch off verbose progress bars\n",
    ")\n",
    "\n",
    "# Not sure if this is the best way, but for now it works\n",
    "sim._finite_data = np.isfinite(sim.data.observed.data)"
   ]
  },
  {
   "cell_type": "code",
   "execution_count": null,
   "id": "ca0306b6",
   "metadata": {},
   "outputs": [],
   "source": [
    "fop = MyFWD(sim)\n",
    "INV = pg.Inversion(fop=fop, verbose=True)\n",
    "\n",
    "INV.transData = pg.trans.TransSymLog(survey.noise_floor)\n",
    "INV.transModel = pg.trans.TransLogLU(1, 1000)\n",
    "\n",
    "# Regularization: Setting active/passive cells would be great,\n",
    "# e.g., de-activating air and water for the inversion.\n",
    "# And of course other regularizations (smoothness etc).\n",
    "# INV.setRegularization(limits=[], correlationLengths=[...])\n",
    "\n",
    "\n",
    "data = sim.data.observed.data[sim._finite_data].copy()\n",
    "model = INV.run(\n",
    "    dataVals=data,\n",
    "    verbose=True,\n",
    "    # emg3d would have the standard deviation, existing of\n",
    "    # relative and absolute error. Could that be provided?\n",
    "    errorVals=np.ones(data.size)*sim.survey.relative_error, \n",
    ")"
   ]
  },
  {
   "cell_type": "code",
   "execution_count": null,
   "id": "14b5ccbe",
   "metadata": {},
   "outputs": [],
   "source": [
    "emg3d.Report(['pygimli', 'pgcore'])"
   ]
  }
 ],
 "metadata": {
  "kernelspec": {
   "display_name": "pg",
   "language": "python",
   "name": "pg"
  },
  "language_info": {
   "codemirror_mode": {
    "name": "ipython",
    "version": 3
   },
   "file_extension": ".py",
   "mimetype": "text/x-python",
   "name": "python",
   "nbconvert_exporter": "python",
   "pygments_lexer": "ipython3",
   "version": "3.9.15"
  }
 },
 "nbformat": 4,
 "nbformat_minor": 5
}
