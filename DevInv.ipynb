{
 "cells": [
  {
   "cell_type": "markdown",
   "id": "49f2dccb",
   "metadata": {},
   "source": [
    "# Draft `pyGIMLi(emg3d)`\n",
    "\n",
    "**NEEDS**\n",
    "- `pyGIMLi`\n",
    "- `emg3d`\n",
    "- `discretize`\n",
    "- `xarray`\n",
    "- `h5py`\n",
    "\n",
    "**Current Limitations**\n",
    "- Only isotropic models supported, without el. perm. and magn. perm.\n",
    "\n",
    "An attempt at using `pyGIMLi` as an inversion framework for `emg3d` computations.\n",
    "\n",
    "For developping purposes, we take a very simple grid/model/survey:\n",
    "- Coarse mesh, no stretching (potentially too small).\n",
    "- Simple double-halfspace model water-subsurface with a resistive block.\n",
    "- Survey: A single 2D line, 6 sources, 1 frequency.\n",
    "\n",
    "=> For this dev-implementation we also do inversion crime, using the same grid for forward modelling and inversion."
   ]
  },
  {
   "cell_type": "code",
   "execution_count": 1,
   "id": "b9e884b3",
   "metadata": {},
   "outputs": [],
   "source": [
    "import emg3d\n",
    "import numpy as np\n",
    "import pygimli as pg\n",
    "import matplotlib.pyplot as plt\n",
    "from matplotlib.colors import LogNorm, SymLogNorm"
   ]
  },
  {
   "cell_type": "code",
   "execution_count": 2,
   "id": "284da314",
   "metadata": {},
   "outputs": [],
   "source": [
    "%matplotlib notebook"
   ]
  },
  {
   "cell_type": "code",
   "execution_count": 3,
   "id": "a070e494",
   "metadata": {},
   "outputs": [
    {
     "data": {
      "text/html": [
       "<table style='border: 1.5px solid;'>\n",
       "  <tr>\n",
       "     <td style='text-align: center; font-weight: bold; font-size: 1.2em; border: 1px solid;' colspan='8'>Tue Dec 13 16:39:03 2022 Mitteleuropäische Zeit</td>\n",
       "  </tr>\n",
       "  <tr>\n",
       "    <td style='text-align: right; border: 1px solid;'>OS</td>\n",
       "    <td style='text-align: left; border: 1px solid;'>Windows</td>\n",
       "    <td style='text-align: right; border: 1px solid;'>CPU(s)</td>\n",
       "    <td style='text-align: left; border: 1px solid;'>8</td>\n",
       "    <td style='text-align: right; border: 1px solid;'>Machine</td>\n",
       "    <td style='text-align: left; border: 1px solid;'>AMD64</td>\n",
       "    <td style='text-align: right; border: 1px solid;'>Architecture</td>\n",
       "    <td style='text-align: left; border: 1px solid;'>64bit</td>\n",
       "  </tr>\n",
       "  <tr>\n",
       "    <td style='text-align: right; border: 1px solid;'>RAM</td>\n",
       "    <td style='text-align: left; border: 1px solid;'>15.9 GiB</td>\n",
       "    <td style='text-align: right; border: 1px solid;'>Environment</td>\n",
       "    <td style='text-align: left; border: 1px solid;'>Jupyter</td>\n",
       "  </tr>\n",
       "  <tr>\n",
       "     <td style='text-align: center; border: 1px solid;' colspan='8'>Python 3.8.13 | packaged by conda-forge | (default, Mar 25 2022, 05:59:45) [MSC v.1929 64 bit (AMD64)]</td>\n",
       "  </tr>\n",
       "  <tr>\n",
       "    <td style='text-align: right; border: 1px solid;'>emg3d</td>\n",
       "    <td style='text-align: left; border: 1px solid;'>1.8.0</td>\n",
       "    <td style='text-align: right; border: 1px solid;'>pygimli</td>\n",
       "    <td style='text-align: left; border: 1px solid;'>1.3.1</td>\n",
       "    <td style='text-align: right; border: 1px solid;'>pgcore</td>\n",
       "    <td style='text-align: left; border: 1px solid;'>Module not found</td>\n",
       "    <td style='text-align: right; border: 1px solid;'>numpy</td>\n",
       "    <td style='text-align: left; border: 1px solid;'>1.19.5</td>\n",
       "  </tr>\n",
       "  <tr>\n",
       "    <td style='text-align: right; border: 1px solid;'>matplotlib</td>\n",
       "    <td style='text-align: left; border: 1px solid;'>3.5.1</td>\n",
       "    <td style='text-align: right; border: 1px solid;'>scipy</td>\n",
       "    <td style='text-align: left; border: 1px solid;'>1.9.1</td>\n",
       "    <td style='text-align: right; border: 1px solid;'>tqdm</td>\n",
       "    <td style='text-align: left; border: 1px solid;'>4.64.1</td>\n",
       "    <td style='text-align: right; border: 1px solid;'>IPython</td>\n",
       "    <td style='text-align: left; border: 1px solid;'>7.33.0</td>\n",
       "  </tr>\n",
       "  <tr>\n",
       "    <td style='text-align: right; border: 1px solid;'>pyvista</td>\n",
       "    <td style='text-align: left; border: 1px solid;'>0.34.1</td>\n",
       "    <td style= border: 1px solid;'></td>\n",
       "    <td style= border: 1px solid;'></td>\n",
       "    <td style= border: 1px solid;'></td>\n",
       "    <td style= border: 1px solid;'></td>\n",
       "    <td style= border: 1px solid;'></td>\n",
       "    <td style= border: 1px solid;'></td>\n",
       "  </tr>\n",
       "</table>"
      ],
      "text/plain": [
       "\n",
       "--------------------------------------------------------------------------------\n",
       "  Date: Tue Dec 13 16:39:03 2022 Mitteleuropäische Zeit\n",
       "\n",
       "                OS : Windows\n",
       "            CPU(s) : 8\n",
       "           Machine : AMD64\n",
       "      Architecture : 64bit\n",
       "               RAM : 15.9 GiB\n",
       "       Environment : Jupyter\n",
       "\n",
       "  Python 3.8.13 | packaged by conda-forge | (default, Mar 25 2022, 05:59:45)\n",
       "  [MSC v.1929 64 bit (AMD64)]\n",
       "\n",
       "             emg3d : 1.8.0\n",
       "           pygimli : 1.3.1\n",
       "            pgcore : Module not found\n",
       "             numpy : 1.19.5\n",
       "        matplotlib : 3.5.1\n",
       "             scipy : 1.9.1\n",
       "              tqdm : 4.64.1\n",
       "           IPython : 7.33.0\n",
       "           pyvista : 0.34.1\n",
       "--------------------------------------------------------------------------------"
      ]
     },
     "execution_count": 3,
     "metadata": {},
     "output_type": "execute_result"
    }
   ],
   "source": [
    "pg.Report('emg3d')"
   ]
  },
  {
   "cell_type": "markdown",
   "id": "6bae9abc",
   "metadata": {},
   "source": [
    "## Load survey (incl. data) and initial model"
   ]
  },
  {
   "cell_type": "code",
   "execution_count": 4,
   "id": "3a8fde72",
   "metadata": {},
   "outputs": [
    {
     "name": "stdout",
     "output_type": "stream",
     "text": [
      "Data loaded from «C:\\Guenther.T\\src\\gimli\\dev-pygimli-emg3d\\pginv.h5»\n",
      "[emg3d v1.8.0 (format 1.0) on 2022-12-13T09:41:19.885480].\n"
     ]
    }
   ],
   "source": [
    "data = emg3d.load('pginv.h5')\n",
    "survey = data['survey']\n",
    "model = data['model']\n",
    "grid = model.grid"
   ]
  },
  {
   "cell_type": "code",
   "execution_count": 5,
   "id": "b42ec70e",
   "metadata": {},
   "outputs": [],
   "source": [
    "survey = survey.select(sources='TxED-1')"
   ]
  },
  {
   "cell_type": "markdown",
   "id": "38031152",
   "metadata": {},
   "source": [
    "## Jacobian Wrapper"
   ]
  },
  {
   "cell_type": "code",
   "execution_count": 6,
   "id": "44edb734",
   "metadata": {},
   "outputs": [],
   "source": [
    "class EMG3DJacobian(pg.Matrix):\n",
    "    \n",
    "    def __init__(self, sim):\n",
    "        super().__init__()\n",
    "        self.sim = sim\n",
    "\n",
    "    def cols(self):\n",
    "        # sim.model.size corresponds to the number of cells\n",
    "        return self.sim.model.size\n",
    "\n",
    "    def rows(self):\n",
    "        # sim.survey.count corresponds to the number of non-NaN data points.\n",
    "        return self.sim.survey.count * 2\n",
    "\n",
    "    def mult(self, x):\n",
    "        \"\"\"J * x \"\"\"\n",
    "        # reshape or ravel\n",
    "        jvec = self.sim.jvec(np.reshape(x, self.sim.model.shape, order='F'))\n",
    "        data = jvec[self.sim._finite_data]\n",
    "        return np.hstack((data.real, data.imag))\n",
    "\n",
    "    def transMult(self, x):\n",
    "        \"\"\"J.T * x = (x * J.T)^T \"\"\"\n",
    "        data = np.ones(survey.data.observed.shape, dtype=self.sim.data.observed.dtype)*np.nan\n",
    "        x = np.asarray(x)\n",
    "        data[self.sim._finite_data] = x[:x.size//2] + 1j*x[x.size//2:]\n",
    "        misfit = self.sim.misfit\n",
    "        return self.sim.jtvec(data).ravel('F')\n",
    "    \n",
    "    def save(self, *args):\n",
    "        pass"
   ]
  },
  {
   "cell_type": "markdown",
   "id": "d7b1009f",
   "metadata": {},
   "source": [
    "## Forward Wrapper"
   ]
  },
  {
   "cell_type": "code",
   "execution_count": 7,
   "id": "8178e349",
   "metadata": {},
   "outputs": [],
   "source": [
    "class MyFWD(pg.Modelling):\n",
    "    \n",
    "    def __init__(self, sim):\n",
    "        \n",
    "        # Should it be here or at the end of the __init__?\n",
    "        super().__init__()\n",
    "        \n",
    "        # Store the simulation\n",
    "        # (I replaced «fop» by «sim».)\n",
    "        self.sim = sim\n",
    "        \n",
    "        # Translate discretize TensorMesh to pg-Grid\n",
    "        self.mesh_ = pg.createGrid(\n",
    "            x=sim.model.grid.nodes_x,\n",
    "            y=sim.model.grid.nodes_y,\n",
    "            z=sim.model.grid.nodes_z,\n",
    "        )\n",
    "        \n",
    "        self.J = EMG3DJacobian(sim)\n",
    "        self.setJacobian(self.J)\n",
    "\n",
    "    def response(self, model):\n",
    "        # do a lot of checks and cleanups\n",
    "        \n",
    "        # Clean emg3d-simulation, so things are recomputed\n",
    "        self.sim.clean('computed')\n",
    "        \n",
    "        # Replace model\n",
    "        self.sim.model = emg3d.Model(self.sim.model.grid, property_x=model)\n",
    "        \n",
    "        # Compute responses for new model\n",
    "        self.sim.compute()\n",
    "        \n",
    "        # Return the responses\n",
    "        data = self.sim.data.synthetic.data[self.sim._finite_data]\n",
    "        return np.hstack((data.real, data.imag))\n",
    "    \n",
    "    def createStartModel(self, dataVals):\n",
    "        return np.ones(self.sim.model.size)\n",
    "    \n",
    "    def createJacobian(self, model):\n",
    "        pass  # do nothing"
   ]
  },
  {
   "cell_type": "markdown",
   "id": "b94a4de1",
   "metadata": {},
   "source": [
    "## Run an inversion"
   ]
  },
  {
   "cell_type": "code",
   "execution_count": 8,
   "id": "07e74fae",
   "metadata": {},
   "outputs": [],
   "source": [
    "# Create an emg3d Simulation instance\n",
    "sim = emg3d.simulations.Simulation(\n",
    "    survey=survey,\n",
    "    model=model,\n",
    "    gridding='same',  # I will like to make that more flexible in the future\n",
    "    max_workers=6,    # Adjust as needed\n",
    "    receiver_interpolation='linear',  # Currently necessary for the gradient\n",
    "    # solver_opts,\n",
    "    tqdm_opts=False,  # Switch off verbose progress bars\n",
    "    # solver_opts={'plain': True, 'maxit': 1},\n",
    ")\n",
    "\n",
    "# Not sure if this is the best way, but for now it works\n",
    "sim._finite_data = np.isfinite(sim.data.observed.data)"
   ]
  },
  {
   "cell_type": "code",
   "execution_count": 9,
   "id": "2da15560",
   "metadata": {},
   "outputs": [],
   "source": [
    "from pygimli.frameworks.lsqrinversion import LSQRInversion\n",
    "fop = MyFWD(sim)\n",
    "fop.setMesh(fop.mesh_)\n",
    "# INV = pg.Inversion(fop=fop, verbose=True, debug=True)\n",
    "INV = LSQRInversion(fop=fop, verbose=True, debug=True)\n",
    "INV.LSQRiter = 20  # just solve lowest wavelengths\n",
    "INV.transData = pg.trans.TransSymLog(survey.noise_floor)\n",
    "INV.transModel = pg.trans.TransLogLU(1, 1000)\n",
    "\n",
    "# Regularization: Setting active/passive cells would be great,\n",
    "# e.g., de-activating air and water for the inversion.\n",
    "# And of course other regularizations (smoothness etc).\n",
    "# INV.setRegularization(limits=[], correlationLengths=[...])\n",
    "# INV.setRegularization(2, fixed=1e-14) # air\n",
    "# INV.setRegularization(3, fixed=10.0) # water\n",
    "\n",
    "dataC = sim.data.observed.data[sim._finite_data].copy()\n",
    "data = np.hstack([dataC.real, dataC.imag])\n",
    "errors = np.ones(data.size)*sim.survey.relative_error\n",
    "# emg3d would have the standard deviation, existing of\n",
    "# relative and absolute error. Could that be provided?"
   ]
  },
  {
   "cell_type": "raw",
   "id": "6b410cfd",
   "metadata": {},
   "source": [
    "modelVec = np.ones(fop.mesh_.cellCount())\n",
    "respVec = fop.response(modelVec)\n",
    "\n",
    "jresp = fop.J.transMult(respVec)\n",
    "jresp.shape\n",
    "\n",
    "jmodel = fop.J.mult(modelVec)\n",
    "jmodel.shape"
   ]
  },
  {
   "cell_type": "code",
   "execution_count": 10,
   "id": "8c2118b9",
   "metadata": {},
   "outputs": [
    {
     "name": "stderr",
     "output_type": "stream",
     "text": [
      "13/12/22 - 16:39:16 - pyGIMLi - \u001b[0;32;49mINFO\u001b[0m - Created startmodel from forward operator: [1. 1. 1. ... 1. 1. 1.]\n",
      "13/12/22 - 16:39:16 - pyGIMLi - \u001b[0;32;49mINFO\u001b[0m - Starting inversion.\n"
     ]
    },
    {
     "name": "stdout",
     "output_type": "stream",
     "text": [
      "fop: <__main__.MyFWD object at 0x000002A196F77360>\n",
      "Data transformation: <pygimli.core._pygimli_.RTrans object at 0x000002A196F2F5E0>\n",
      "Model transformation: <pygimli.core._pygimli_.RTransLog object at 0x000002A196F77090>\n",
      "min/max (data): -2.3e-08/1.2e-09\n",
      "min/max (error): 5%/5%\n",
      "min/max (start model): 1/1\n",
      "--------------------------------------------------------------------------------\n",
      "--------------------------------------------------------------------------------\n",
      "inv.iter 1 ... Running one inversion step!\n"
     ]
    },
    {
     "name": "stderr",
     "output_type": "stream",
     "text": [
      "13/12/22 - 16:39:44 - pyGIMLi - \u001b[0;32;49mINFO\u001b[0m - 0 8.123132668680168e-07 1.0\n",
      "13/12/22 - 16:43:25 - pyGIMLi - \u001b[0;32;49mINFO\u001b[0m - 10 3.188837992905813e-13 3.925625892090631e-07\n",
      "13/12/22 - 16:47:16 - pyGIMLi - \u001b[0;32;49mINFO\u001b[0m - Maximum iteration reached\n",
      "13/12/22 - 16:47:16 - pyGIMLi - \u001b[0;32;49mINFO\u001b[0m - 19 2.047628572657938e-13 2.520737572775151e-07\n"
     ]
    },
    {
     "name": "stdout",
     "output_type": "stream",
     "text": [
      "chi² = 41502.41 (dPhi = 0.0%) lam: 20\n",
      "--------------------------------------------------------------------------------\n",
      "inv.iter 2 ... Running one inversion step!\n"
     ]
    },
    {
     "name": "stderr",
     "output_type": "stream",
     "text": [
      "13/12/22 - 16:47:39 - pyGIMLi - \u001b[0;32;49mINFO\u001b[0m - 0 2.974306671442927e-07 1.0\n",
      "13/12/22 - 16:51:16 - pyGIMLi - \u001b[0;32;49mINFO\u001b[0m - 10 1.8552157679626862e-13 6.237473041280791e-07\n",
      "13/12/22 - 16:54:57 - pyGIMLi - \u001b[0;32;49mINFO\u001b[0m - Maximum iteration reached\n",
      "13/12/22 - 16:54:57 - pyGIMLi - \u001b[0;32;49mINFO\u001b[0m - 19 3.497443983933273e-13 1.1758854651785306e-06\n"
     ]
    },
    {
     "name": "stdout",
     "output_type": "stream",
     "text": [
      "chi² = 41502.41 (dPhi = -0.0%) lam: 20.0\n"
     ]
    }
   ],
   "source": [
    "errmodel = INV.run(\n",
    "    dataVals=data,\n",
    "    errorVals=errors,\n",
    "    maxIter=2, # just to test\n",
    "    verbose=True,\n",
    ")"
   ]
  },
  {
   "cell_type": "code",
   "execution_count": 13,
   "id": "c08a08b7",
   "metadata": {},
   "outputs": [],
   "source": [
    "grid = fop.mesh_\n",
    "grid[\"conductivity\"] = errmodel\n",
    "grid.exportVTK(\"out.vtk\")"
   ]
  },
  {
   "cell_type": "raw",
   "id": "ead198bd",
   "metadata": {},
   "source": [
    "mymesh = pg.createGrid(\n",
    "        x=sim.model.grid.nodes_x,\n",
    "        y=sim.model.grid.nodes_y,\n",
    "        z=sim.model.grid.nodes_z,\n",
    "    )\n",
    "cm = mymesh.cellMarkers()\n",
    "for c in mymesh.cells():\n",
    "    if c.center().z() > 0:  # air\n",
    "        c.setMarker(1)\n",
    "    # elif # water\n",
    "\n",
    "# cm[pg.z(mymesh) > 0] = 2  # air\n",
    "# mymesh.setMarkers(cm)\n",
    "pg.show(mymesh)\n",
    "mymesh.exportVTK(\"mymesh.vtk\")"
   ]
  }
 ],
 "metadata": {
  "hide_input": false,
  "kernelspec": {
   "display_name": "Python 3 (ipykernel)",
   "language": "python",
   "name": "python3"
  },
  "language_info": {
   "codemirror_mode": {
    "name": "ipython",
    "version": 3
   },
   "file_extension": ".py",
   "mimetype": "text/x-python",
   "name": "python",
   "nbconvert_exporter": "python",
   "pygments_lexer": "ipython3",
   "version": "3.8.13"
  },
  "toc": {
   "base_numbering": 1,
   "nav_menu": {},
   "number_sections": false,
   "sideBar": true,
   "skip_h1_title": false,
   "title_cell": "Table of Contents",
   "title_sidebar": "Contents",
   "toc_cell": false,
   "toc_position": {},
   "toc_section_display": true,
   "toc_window_display": false
  },
  "varInspector": {
   "cols": {
    "lenName": 16,
    "lenType": 16,
    "lenVar": 40
   },
   "kernels_config": {
    "python": {
     "delete_cmd_postfix": "",
     "delete_cmd_prefix": "del ",
     "library": "var_list.py",
     "varRefreshCmd": "print(var_dic_list())"
    },
    "r": {
     "delete_cmd_postfix": ") ",
     "delete_cmd_prefix": "rm(",
     "library": "var_list.r",
     "varRefreshCmd": "cat(var_dic_list()) "
    }
   },
   "position": {
    "height": "446.849px",
    "left": "931px",
    "right": "20px",
    "top": "120px",
    "width": "329px"
   },
   "types_to_exclude": [
    "module",
    "function",
    "builtin_function_or_method",
    "instance",
    "_Feature"
   ],
   "window_display": false
  }
 },
 "nbformat": 4,
 "nbformat_minor": 5
}
