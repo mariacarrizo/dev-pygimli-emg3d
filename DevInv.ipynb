{
 "cells": [
  {
   "cell_type": "markdown",
   "id": "49f2dccb",
   "metadata": {},
   "source": [
    "# Draft `pyGIMLi(emg3d)`\n",
    "\n",
    "**NEEDS**\n",
    "- `pyGIMLi`\n",
    "- `emg3d`\n",
    "- `discretize`\n",
    "- `xarray`\n",
    "- `h5py`\n",
    "\n",
    "**Current Limitations**\n",
    "- Only isotropic models supported, without el. perm. and magn. perm.\n",
    "\n",
    "An attempt at using `pyGIMLi` as an inversion framework for `emg3d` computations.\n",
    "\n",
    "For developping purposes, we take a very simple grid/model/survey:\n",
    "- Coarse mesh, no stretching (potentially too small).\n",
    "- Simple double-halfspace model water-subsurface with a resistive block.\n",
    "- Survey: A single 2D line, 6 sources, 1 frequency.\n",
    "\n",
    "=> For this dev-implementation we also do inversion crime, using the same grid for forward modelling and inversion."
   ]
  },
  {
   "cell_type": "code",
   "execution_count": 1,
   "id": "b9e884b3",
   "metadata": {},
   "outputs": [],
   "source": [
    "import emg3d\n",
    "import numpy as np\n",
    "import pygimli as pg\n",
    "import matplotlib.pyplot as plt\n",
    "from matplotlib.colors import LogNorm, SymLogNorm"
   ]
  },
  {
   "cell_type": "code",
   "execution_count": 2,
   "id": "284da314",
   "metadata": {},
   "outputs": [],
   "source": [
    "%matplotlib notebook"
   ]
  },
  {
   "cell_type": "markdown",
   "id": "6bae9abc",
   "metadata": {},
   "source": [
    "## Load survey (incl. data) and initial model"
   ]
  },
  {
   "cell_type": "code",
   "execution_count": 3,
   "id": "3a8fde72",
   "metadata": {},
   "outputs": [
    {
     "name": "stdout",
     "output_type": "stream",
     "text": [
      "Data loaded from «/home/dtr/3-GitHub/dev-pygimli-emg3d/pginv.h5»\n",
      "[emg3d v1.8.0 (format 1.0) on 2022-10-07T13:27:58.157459].\n"
     ]
    }
   ],
   "source": [
    "data = emg3d.load('pginv.h5')\n",
    "survey = data['survey']\n",
    "model = data['model']\n",
    "grid = model.grid"
   ]
  },
  {
   "cell_type": "markdown",
   "id": "38031152",
   "metadata": {},
   "source": [
    "## Jacobian Wrapper"
   ]
  },
  {
   "cell_type": "code",
   "execution_count": 4,
   "id": "44edb734",
   "metadata": {},
   "outputs": [],
   "source": [
    "class EMG3DJacobian(pg.Matrix):\n",
    "    \n",
    "    def __init__(self, sim):\n",
    "        super().__init__()\n",
    "        \n",
    "        self.sim = sim\n",
    "\n",
    "    def cols(self):\n",
    "        # sim.model.size corresponds to the number of cells\n",
    "        return self.sim.model.size\n",
    "\n",
    "    def rows(self):\n",
    "        # sim.survey.count corresponds to the number of non-NaN data points.\n",
    "        return self.sim.survey.count\n",
    "\n",
    "    def mult(self, x):\n",
    "        \"\"\"J * x \"\"\"\n",
    "        jvec = self.sim.jvec(x.reshape(self.sim.model.shape, order='F'))\n",
    "        return jvec[self.sim._finite_data]\n",
    "\n",
    "    def transMult(self, x):\n",
    "        \"\"\"J.T * x = (x * J.T)^T \"\"\"\n",
    "        data = np.ones(survey.data.observed.shape)*np.nan\n",
    "        data[self.sim._finite_data] = x\n",
    "        return self.sim.jtvec(data).ravel('F')"
   ]
  },
  {
   "cell_type": "markdown",
   "id": "d7b1009f",
   "metadata": {},
   "source": [
    "## Forward Wrapper"
   ]
  },
  {
   "cell_type": "code",
   "execution_count": 5,
   "id": "8178e349",
   "metadata": {},
   "outputs": [],
   "source": [
    "class MyFWD(pg.Modelling):\n",
    "    \n",
    "    def __init__(self, sim):\n",
    "        \n",
    "        # Should it be here or at the end of the __init__?\n",
    "        super().__init__()\n",
    "        \n",
    "        # Store the simulation\n",
    "        # (I replaced «fop» by «sim».)\n",
    "        self.sim = sim\n",
    "        \n",
    "        # Translate discretize TensorMesh to pg-Grid\n",
    "        self.mesh = pg.createGrid(\n",
    "            x=sim.model.grid.nodes_x,\n",
    "            y=sim.model.grid.nodes_y,\n",
    "            z=sim.model.grid.nodes_z,\n",
    "        )\n",
    "        \n",
    "        self.J = EMG3DJacobian(sim)\n",
    "        self.setJacobian(self.J)\n",
    "\n",
    "    def response(self, model):\n",
    "        # do a lot of checks and cleanups\n",
    "        \n",
    "        # Clean emg3d-simulation, so things are recomputed\n",
    "        self.sim.clean('computed')\n",
    "        \n",
    "        # Replace model\n",
    "        self.sim.model = emg3d.Model(self.sim.model.grid, property_x=model)\n",
    "        \n",
    "        # Compute responses for new model\n",
    "        self.sim.compute()\n",
    "        \n",
    "        # Return the responses\n",
    "        return self.sim.data.synthetic.data[self.sim._finite_data]\n",
    "    \n",
    "    def createStartModel(self, dataVals):\n",
    "        return np.ones(self.sim.model.size)\n",
    "    \n",
    "    def createJacobian(self, model):\n",
    "        pass  # do nothing"
   ]
  },
  {
   "cell_type": "markdown",
   "id": "b94a4de1",
   "metadata": {},
   "source": [
    "## Run an inversion"
   ]
  },
  {
   "cell_type": "code",
   "execution_count": 9,
   "id": "ca0306b6",
   "metadata": {
    "scrolled": false
   },
   "outputs": [
    {
     "name": "stderr",
     "output_type": "stream",
     "text": [
      "07/10/22 - 14:29:48 - pyGIMLi - \u001b[0;32;49mINFO\u001b[0m - Created startmodel from forward operator: [1. 1. 1. ... 1. 1. 1.]\n"
     ]
    },
    {
     "name": "stdout",
     "output_type": "stream",
     "text": [
      "\n",
      "\n"
     ]
    }
   ],
   "source": [
    "# Create an emg3d Simulation instance\n",
    "sim = emg3d.simulations.Simulation(\n",
    "    survey=survey,\n",
    "    model=model,\n",
    "    gridding='same',  # I will like to make that more flexible in the future\n",
    "    max_workers=6,    # Adjust as needed\n",
    "    receiver_interpolation='linear',  # Currently necessary for the gradient\n",
    "    # solver_opts,\n",
    "    tqdm_opts=False,  # Switch off verbose progress bars\n",
    ")\n",
    "\n",
    "# Not sure if this is the best way, but for now it works\n",
    "sim._finite_data = np.isfinite(sim.data.observed.data)\n",
    "\n",
    "\n",
    "fop = MyFWD(sim)\n",
    "INV = pg.Inversion(fop=fop)\n",
    "\n",
    "INV.transData = pg.trans.TransLin()\n",
    "INV.transModel = pg.trans.TransLogLU(1, 1000)\n",
    "\n",
    "# Regularization: Setting active/passive cells would be great,\n",
    "# e.g., de-activating air and water for the inversion.\n",
    "# And of course other regularizations (smoothness etc).\n",
    "# INV.setRegularization(limits=[], correlationLengths=[...])\n",
    "\n",
    "\n",
    "data = sim.data.observed.data[sim._finite_data].copy()\n",
    "model = INV.run(\n",
    "    dataVals=data,\n",
    "    # emg3d would have the standard deviation, existing of\n",
    "    # relative and absolute error. Could that be provided?\n",
    "    errorVals=np.ones(data.size)*sim.survey.relative_error, \n",
    ")"
   ]
  },
  {
   "cell_type": "code",
   "execution_count": 10,
   "id": "14b5ccbe",
   "metadata": {},
   "outputs": [
    {
     "data": {
      "text/html": [
       "<table style='border: 1.5px solid;'>\n",
       "  <tr>\n",
       "     <td style='text-align: center; font-weight: bold; font-size: 1.2em; border: 1px solid;' colspan='6'>Fri Oct 07 14:30:19 2022 CEST</td>\n",
       "  </tr>\n",
       "  <tr>\n",
       "    <td style='text-align: right; border: 1px solid;'>OS</td>\n",
       "    <td style='text-align: left; border: 1px solid;'>Linux</td>\n",
       "    <td style='text-align: right; border: 1px solid;'>CPU(s)</td>\n",
       "    <td style='text-align: left; border: 1px solid;'>4</td>\n",
       "    <td style='text-align: right; border: 1px solid;'>Machine</td>\n",
       "    <td style='text-align: left; border: 1px solid;'>x86_64</td>\n",
       "  </tr>\n",
       "  <tr>\n",
       "    <td style='text-align: right; border: 1px solid;'>Architecture</td>\n",
       "    <td style='text-align: left; border: 1px solid;'>64bit</td>\n",
       "    <td style='text-align: right; border: 1px solid;'>RAM</td>\n",
       "    <td style='text-align: left; border: 1px solid;'>15.5 GiB</td>\n",
       "    <td style='text-align: right; border: 1px solid;'>Environment</td>\n",
       "    <td style='text-align: left; border: 1px solid;'>Jupyter</td>\n",
       "  </tr>\n",
       "  <tr>\n",
       "    <td style='text-align: right; border: 1px solid;'>File system</td>\n",
       "    <td style='text-align: left; border: 1px solid;'>ext4</td>\n",
       "  </tr>\n",
       "  <tr>\n",
       "     <td style='text-align: center; border: 1px solid;' colspan='6'>Python 3.9.13 | packaged by conda-forge | (main, May 27 2022, 16:56:21) \n",
       "[GCC 10.3.0]</td>\n",
       "  </tr>\n",
       "  <tr>\n",
       "    <td style='text-align: right; border: 1px solid;'>pygimli</td>\n",
       "    <td style='text-align: left; border: 1px solid;'>1.3.0</td>\n",
       "    <td style='text-align: right; border: 1px solid;'>pgcore</td>\n",
       "    <td style='text-align: left; border: 1px solid;'>Version unknown</td>\n",
       "    <td style='text-align: right; border: 1px solid;'>numpy</td>\n",
       "    <td style='text-align: left; border: 1px solid;'>1.20.3</td>\n",
       "  </tr>\n",
       "  <tr>\n",
       "    <td style='text-align: right; border: 1px solid;'>scipy</td>\n",
       "    <td style='text-align: left; border: 1px solid;'>1.9.1</td>\n",
       "    <td style='text-align: right; border: 1px solid;'>numba</td>\n",
       "    <td style='text-align: left; border: 1px solid;'>0.56.2</td>\n",
       "    <td style='text-align: right; border: 1px solid;'>emg3d</td>\n",
       "    <td style='text-align: left; border: 1px solid;'>1.8.0</td>\n",
       "  </tr>\n",
       "  <tr>\n",
       "    <td style='text-align: right; border: 1px solid;'>empymod</td>\n",
       "    <td style='text-align: left; border: 1px solid;'>2.2.0</td>\n",
       "    <td style='text-align: right; border: 1px solid;'>xarray</td>\n",
       "    <td style='text-align: left; border: 1px solid;'>2022.9.0</td>\n",
       "    <td style='text-align: right; border: 1px solid;'>discretize</td>\n",
       "    <td style='text-align: left; border: 1px solid;'>0.8.2</td>\n",
       "  </tr>\n",
       "  <tr>\n",
       "    <td style='text-align: right; border: 1px solid;'>h5py</td>\n",
       "    <td style='text-align: left; border: 1px solid;'>3.7.0</td>\n",
       "    <td style='text-align: right; border: 1px solid;'>matplotlib</td>\n",
       "    <td style='text-align: left; border: 1px solid;'>3.5.1</td>\n",
       "    <td style='text-align: right; border: 1px solid;'>tqdm</td>\n",
       "    <td style='text-align: left; border: 1px solid;'>4.64.1</td>\n",
       "  </tr>\n",
       "  <tr>\n",
       "    <td style='text-align: right; border: 1px solid;'>IPython</td>\n",
       "    <td style='text-align: left; border: 1px solid;'>8.5.0</td>\n",
       "    <td style= border: 1px solid;'></td>\n",
       "    <td style= border: 1px solid;'></td>\n",
       "    <td style= border: 1px solid;'></td>\n",
       "    <td style= border: 1px solid;'></td>\n",
       "  </tr>\n",
       "</table>"
      ],
      "text/plain": [
       "\n",
       "--------------------------------------------------------------------------------\n",
       "  Date: Fri Oct 07 14:30:19 2022 CEST\n",
       "\n",
       "                OS : Linux\n",
       "            CPU(s) : 4\n",
       "           Machine : x86_64\n",
       "      Architecture : 64bit\n",
       "               RAM : 15.5 GiB\n",
       "       Environment : Jupyter\n",
       "       File system : ext4\n",
       "\n",
       "  Python 3.9.13 | packaged by conda-forge | (main, May 27 2022, 16:56:21)\n",
       "  [GCC 10.3.0]\n",
       "\n",
       "           pygimli : 1.3.0\n",
       "            pgcore : Version unknown\n",
       "             numpy : 1.20.3\n",
       "             scipy : 1.9.1\n",
       "             numba : 0.56.2\n",
       "             emg3d : 1.8.0\n",
       "           empymod : 2.2.0\n",
       "            xarray : 2022.9.0\n",
       "        discretize : 0.8.2\n",
       "              h5py : 3.7.0\n",
       "        matplotlib : 3.5.1\n",
       "              tqdm : 4.64.1\n",
       "           IPython : 8.5.0\n",
       "--------------------------------------------------------------------------------"
      ]
     },
     "execution_count": 10,
     "metadata": {},
     "output_type": "execute_result"
    }
   ],
   "source": [
    "emg3d.Report(['pygimli', 'pgcore'])"
   ]
  }
 ],
 "metadata": {
  "kernelspec": {
   "display_name": "pg",
   "language": "python",
   "name": "pg"
  },
  "language_info": {
   "codemirror_mode": {
    "name": "ipython",
    "version": 3
   },
   "file_extension": ".py",
   "mimetype": "text/x-python",
   "name": "python",
   "nbconvert_exporter": "python",
   "pygments_lexer": "ipython3",
   "version": "3.9.13"
  }
 },
 "nbformat": 4,
 "nbformat_minor": 5
}
