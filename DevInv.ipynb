{
 "cells": [
  {
   "cell_type": "markdown",
   "id": "49f2dccb",
   "metadata": {},
   "source": [
    "# Draft `pyGIMLi(emg3d)`\n",
    "\n",
    "**NEEDS**\n",
    "- `pyGIMLi`\n",
    "- `emg3d`\n",
    "- `discretize`\n",
    "- `xarray`\n",
    "- `h5py`\n",
    "\n",
    "**Current Limitations**\n",
    "- Only isotropic models supported\n",
    "- Only 'Conductivity' models supported\n",
    "- Without el. perm. and magn. perm.\n",
    "\n",
    "An attempt at using `pyGIMLi` as an inversion framework for `emg3d` computations.\n",
    "\n",
    "For developping purposes, we take a very simple grid/model/survey:\n",
    "- Coarse mesh, no stretching (potentially too small).\n",
    "- Simple double-halfspace model water-subsurface with a resistive block.\n",
    "- Survey: A single 2D line, 5 sources (3 in the coarse one), 1 frequency.\n",
    "\n",
    "=> For this dev-implementation we also do inversion crime, using the same grid for forward modelling and inversion."
   ]
  },
  {
   "cell_type": "code",
   "execution_count": null,
   "id": "b9e884b3",
   "metadata": {},
   "outputs": [],
   "source": [
    "import numpy as np\n",
    "import matplotlib.pyplot as plt\n",
    "from matplotlib.colors import LogNorm, SymLogNorm\n",
    "\n",
    "import emg3d\n",
    "import pygimli as pg\n",
    "from pygimli.frameworks.lsqrinversion import LSQRInversion"
   ]
  },
  {
   "cell_type": "code",
   "execution_count": null,
   "id": "284da314",
   "metadata": {},
   "outputs": [],
   "source": [
    "%matplotlib notebook"
   ]
  },
  {
   "cell_type": "markdown",
   "id": "6bae9abc",
   "metadata": {},
   "source": [
    "## Load survey (incl. data), initial model, and create a Simulation"
   ]
  },
  {
   "cell_type": "code",
   "execution_count": null,
   "id": "3a8fde72",
   "metadata": {},
   "outputs": [],
   "source": [
    "#inp_data = emg3d.load('pginv.h5')        # Finer model (but still coarse)\n",
    "inp_data = emg3d.load('pginv-coarse.h5')  # VERY COARSE (to develop)\n",
    "\n",
    "inp_survey = inp_data['survey']\n",
    "inp_model = inp_data['model']\n",
    "inp_grid = inp_model.grid\n",
    "inp_model"
   ]
  },
  {
   "cell_type": "code",
   "execution_count": null,
   "id": "8b85a60d",
   "metadata": {},
   "outputs": [],
   "source": [
    "# The model is resistivity. Change it to conductivity\n",
    "# TODO: make this internally happen, so that pyGIMLi\n",
    "# always gets a conductivity model!\n",
    "con_model = emg3d.Model(inp_grid, 1/inp_model.property_x, mapping='Conductivity')\n",
    "con_model"
   ]
  },
  {
   "cell_type": "code",
   "execution_count": null,
   "id": "fb0b334f",
   "metadata": {},
   "outputs": [],
   "source": [
    "# For dev-purposes, we only select one source\n",
    "# [for dev-purposes it is also a very simple model]\n",
    "inp_survey = inp_survey.select(sources='TxED-1')\n",
    "inp_survey"
   ]
  },
  {
   "cell_type": "markdown",
   "id": "438d5cbe",
   "metadata": {},
   "source": [
    "## Create a Simulation"
   ]
  },
  {
   "cell_type": "code",
   "execution_count": null,
   "id": "07e74fae",
   "metadata": {},
   "outputs": [],
   "source": [
    "# Create an emg3d Simulation instance\n",
    "sim = emg3d.simulations.Simulation(\n",
    "    survey=inp_survey,\n",
    "    model=con_model,\n",
    "    gridding='same',  # I would like to make that more flexible in the future\n",
    "    max_workers=4,    # Adjust as needed\n",
    "    receiver_interpolation='linear',  # Currently necessary for the gradient\n",
    "    #solver_opts={'plain': True, 'maxit': 1},  # Just for dev-purpose\n",
    "    #solver_opts={'tol': 1e-4},                # Just for dev-purpose\n",
    "    tqdm_opts=False,  # Switch off verbose progress bars\n",
    ")"
   ]
  },
  {
   "cell_type": "markdown",
   "id": "38031152",
   "metadata": {},
   "source": [
    "## Jacobian Wrapper (should move to a py-file)"
   ]
  },
  {
   "cell_type": "code",
   "execution_count": null,
   "id": "44edb734",
   "metadata": {},
   "outputs": [],
   "source": [
    "class JacobianXemg3d(pg.Matrix):\n",
    "    \"\"\"Create a Jacobian operator to use emg3d as kernel within pyGIMLi.\"\"\"\n",
    "    \n",
    "    def __init__(self, sim):\n",
    "        super().__init__()\n",
    "        self.sim = sim\n",
    "\n",
    "    def cols(self):\n",
    "        # sim.model.size corresponds to the number of cells\n",
    "        return self.sim.model.size\n",
    "\n",
    "    def rows(self):\n",
    "        # sim.survey.count corresponds to the number of non-NaN data points.\n",
    "        # Multiply by 2 for real + imaginary parts.\n",
    "        return self.sim.survey.count * 2\n",
    "\n",
    "    def mult(self, x):\n",
    "        \"\"\"J * x \"\"\"\n",
    "        # - Input x has size of the model; later, we want to generalize that\n",
    "        #   to allow for anisotropic models etc.\n",
    "        # - Output has size of non-NaN data [Re, Im]\n",
    "        jvec = self.sim.jvec(np.reshape(x, self.sim.model.shape, order='F'))\n",
    "        data = jvec[self.sim._finite_data]\n",
    "        return np.hstack((data.real, data.imag))\n",
    "\n",
    "    def transMult(self, x):\n",
    "        \"\"\"J.T * x = (x * J.T)^T \"\"\"\n",
    "        # - Input has size of non-NaN data [Re, Im]\n",
    "        # - Output has size of the model\n",
    "        data = np.ones(self.sim.survey.shape, dtype=self.sim.data.observed.dtype)*np.nan\n",
    "        x = np.asarray(x)\n",
    "        data[self.sim._finite_data] = x[:x.size//2] + 1j*x[x.size//2:]\n",
    "        return self.sim.jtvec(data).ravel('F')\n",
    "    \n",
    "    def save(self, *args):\n",
    "        pass"
   ]
  },
  {
   "cell_type": "markdown",
   "id": "d7b1009f",
   "metadata": {},
   "source": [
    "## Forward Wrapper (should move to a py-file)"
   ]
  },
  {
   "cell_type": "code",
   "execution_count": null,
   "id": "8178e349",
   "metadata": {},
   "outputs": [],
   "source": [
    "class KernelXemg3d(pg.Modelling):\n",
    "    \"\"\"Create a forward operator to use emg3d as kernel within pyGIMLi.\"\"\"\n",
    "    \n",
    "    def __init__(self, sim):\n",
    "        \"\"\"Initialize the pyGIMLi(emg3d)-wrapper.\"\"\"\n",
    "        \n",
    "        # Initiate first pg.Modelling, which will do its magic.\n",
    "        super().__init__()\n",
    "        \n",
    "        # Check current limitations; PURELY for development\n",
    "        # IMPROVE (implement fully or convert to checks, do not do assert!)\n",
    "        assert sim.model.case == 'isotropic'\n",
    "        assert sim.model.map.name == 'Conductivity'\n",
    "        \n",
    "        # Add a bool to the simulation which selects all data\n",
    "        # which are finite (this should go into emg3d.survey directly!)\n",
    "        sim._finite_data = np.isfinite(sim.data.observed.data)\n",
    "        \n",
    "        # Store the simulation\n",
    "        self.sim = sim\n",
    "        \n",
    "        # Translate discretize TensorMesh to pg-Grid\n",
    "        self.mesh_ = pg.createGrid(\n",
    "            x=sim.model.grid.nodes_x,\n",
    "            y=sim.model.grid.nodes_y,\n",
    "            z=sim.model.grid.nodes_z,\n",
    "        )\n",
    "        \n",
    "        # Set marker -> water is 1, subsurface is 0\n",
    "        # JUST TO DEVELOP, this SHOULD NOT be hard-coded in the wrapper\n",
    "        self.mesh_.setCellMarkers(pg.z(self.mesh_.cellCenters()) > 0)\n",
    "        \n",
    "        # Set the mesh properly\n",
    "        self.setMesh(self.mesh_)\n",
    "        \n",
    "        # Define J and setJacobian\n",
    "        self.J = JacobianXemg3d(sim)\n",
    "        self.setJacobian(self.J)\n",
    "        \n",
    "        # Store obs-data and obs-error\n",
    "        cplx_data = sim.data.observed.data[sim._finite_data] \n",
    "        self.obs_data = np.hstack([cplx_data.real, cplx_data.imag])\n",
    "\n",
    "        abs_errors = sim.survey.standard_deviation.data[sim._finite_data]\n",
    "        self.obs_errors = np.hstack([abs_errors, abs_errors]) / abs(self.obs_data)\n",
    "\n",
    "    def response(self, model):\n",
    "        \"\"\"Create synthetic data for provided model.\"\"\"\n",
    "        \n",
    "        # Clean emg3d-simulation, so things are recomputed\n",
    "        self.sim.clean('computed')\n",
    "        \n",
    "        # Replace model\n",
    "        self.sim.model = emg3d.Model(\n",
    "            grid=self.sim.model.grid,\n",
    "            property_x=model,\n",
    "            mapping='Conductivity'\n",
    "        )\n",
    "\n",
    "        # Compute forward model and set initial residuals.\n",
    "        _ = self.sim.misfit\n",
    "\n",
    "        # Return the responses\n",
    "        data = self.sim.data.synthetic.data[self.sim._finite_data]\n",
    "        return np.hstack((data.real, data.imag))\n",
    "    \n",
    "    def createStartModel(self, dataVals):   # NOT SURE ABOUT THIS\n",
    "        \"\"\"Create a start model...????\"\"\"\n",
    "        # Use the model in the simulation as starting model\n",
    "        # => make this more flexibel!\n",
    "        return self.sim.model.property_x.ravel('F')\n",
    "    \n",
    "    def createJacobian(self, model):\n",
    "        \"\"\"Dummy to prevent pg.Modelling from doing it the hard way.\"\"\"\n",
    "        pass  # do nothing"
   ]
  },
  {
   "cell_type": "markdown",
   "id": "b94a4de1",
   "metadata": {},
   "source": [
    "## Istantiate and run inversion"
   ]
  },
  {
   "cell_type": "code",
   "execution_count": null,
   "id": "8ee151b4",
   "metadata": {},
   "outputs": [],
   "source": [
    "fop = KernelXemg3d(sim)\n",
    "\n",
    "# INV = pg.Inversion(fop=fop, verbose=True, debug=True)\n",
    "\n",
    "INV = LSQRInversion(fop=fop, verbose=True)  #, debug=True)\n",
    "\n",
    "INV.LSQRiter = 20  # just solve lowest wavelengths\n",
    "\n",
    "INV.transData = pg.trans.TransSymLog(sim.survey.noise_floor)\n",
    "\n",
    "# INV.transModel = pg.trans.TransLogLU(1e-3, 1e1)\n",
    "\n",
    "INV.setRegularization(0, limits=(0.001, 2), startModel=1.0)\n",
    "INV.setRegularization(1, limits=(3, 4), startModel=3.33) # , single=True)"
   ]
  },
  {
   "cell_type": "code",
   "execution_count": null,
   "id": "8c2118b9",
   "metadata": {
    "scrolled": false
   },
   "outputs": [],
   "source": [
    "errmodel = INV.run(\n",
    "    dataVals=fop.obs_data,\n",
    "    errorVals=fop.obs_errors,\n",
    "    maxIter=2, # just to test\n",
    "    verbose=True,\n",
    "    #startModel=...,\n",
    "    #isReference=True,\n",
    ")"
   ]
  },
  {
   "cell_type": "markdown",
   "id": "919334b7",
   "metadata": {},
   "source": [
    "## Plots"
   ]
  },
  {
   "cell_type": "code",
   "execution_count": null,
   "id": "c8b6d59e",
   "metadata": {},
   "outputs": [],
   "source": [
    "# Add inversion result to data;\n",
    "# I should wrap these few lines into a function, as they are used above as well\n",
    "idata = np.ones(sim.survey.shape, dtype=sim.data.observed.dtype)*np.nan\n",
    "x = np.asarray(INV.response)\n",
    "idata[sim._finite_data] = x[:x.size//2] + 1j*x[x.size//2:]\n",
    "sim.survey.data['inv'] = sim.survey.data.observed.copy(data=idata)\n",
    "\n",
    "# Compute the 2-layer model as comparison\n",
    "sim.clean('computed')\n",
    "sim.model = inp_data['model']\n",
    "sim.compute()  # <- puts it into 'synthetic'"
   ]
  },
  {
   "cell_type": "code",
   "execution_count": null,
   "id": "d74ac9e8",
   "metadata": {},
   "outputs": [],
   "source": [
    "popts = {'edgecolors': 'grey', 'linewidth': 0.5, 'cmap':'Spectral_r','norm':LogNorm(vmin=0.3, vmax=100)}\n",
    "opts = {'v_type': 'CC', 'normal': 'Y', 'pcolor_opts': popts}\n",
    "\n",
    "fig, axs = plt.subplots(2, 2, figsize=(7, 5), constrained_layout=True)\n",
    "(ax1, ax2), (ax3, ax4) = axs\n",
    "\n",
    "# Final inversion model\n",
    "out1, = inp_grid.plot_slice(1/np.array(INV.model), ax=ax1, **opts)\n",
    "ax1.set_title(f\"Final Model (Ohm.m)\")\n",
    "ax1.set_xlabel('')\n",
    "\n",
    "# Start model\n",
    "out3, = inp_grid.plot_slice(inp_data['model'].property_x.ravel('F'), ax=ax3, **opts)\n",
    "ax3.set_title(f\"Start Model (Ohm.m)\")\n",
    "\n",
    "# True model\n",
    "out4, = inp_grid.plot_slice(inp_data['true_model'].property_x.ravel('F'), ax=ax4, **opts)\n",
    "ax4.set_title(f\"True Model (Ohm.m)\")\n",
    "ax4.set_ylabel('')\n",
    "\n",
    "# Data\n",
    "obs = sim.data.observed\n",
    "syn = sim.data.inv\n",
    "syn.data[~np.isfinite(obs.data)] = np.nan+1j*np.nan\n",
    "two = sim.data.synthetic\n",
    "two.data[~np.isfinite(obs.data)] = np.nan+1j*np.nan\n",
    "rec_coords = inp_survey.receiver_coordinates()\n",
    "\n",
    "for i, src in enumerate(inp_survey.sources.keys()):\n",
    "    ax2.plot(rec_coords[0], abs(obs.loc[src, :, :].data), \"ko\", label='obs' if i == 0 else '')\n",
    "    ax2.plot(rec_coords[0], abs(two.loc[src, :, :].data), \".-\", c='.5', lw=0.5, label='2-layer' if i == 0 else '')\n",
    "    ax2.plot(rec_coords[0], abs(syn.loc[src, :, :].data), f\"C{i}.-\", lw=0.5, label='final' if i == 0 else '')\n",
    "\n",
    "ax2.set_yscale('log')\n",
    "ax2.legend(ncol=2, framealpha=1)\n",
    "ax2.set_title('$|E_x|$ (V/m)')\n",
    "\n",
    "plt.colorbar(out1, ax=axs, orientation='horizontal', fraction=.1, shrink=.8, aspect=30);"
   ]
  },
  {
   "cell_type": "code",
   "execution_count": null,
   "id": "8f7ece70",
   "metadata": {},
   "outputs": [],
   "source": [
    "fig, (ax1, ax2) = plt.subplots(1, 2, figsize=(7, 4), sharex=True, sharey=True)\n",
    "\n",
    "for i, src in enumerate(sim.survey.sources.keys()):\n",
    "    ax1.plot(rec_coords[0], abs(obs.loc[src, :, :].real), \"ko\", label='obs' if i == 0 else '')\n",
    "    ax1.plot(rec_coords[0], abs(two.loc[src, :, :].real), \".-\", c='.5', lw=0.5, label='2-layer' if i == 0 else '')\n",
    "    ax1.plot(rec_coords[0], abs(syn.loc[src, :, :].real), f\"C{i}.-\", lw=0.5, label='final' if i == 0 else '')\n",
    "    ax2.plot(rec_coords[0], abs(obs.loc[src, :, :].imag), \"ko\", label='obs' if i == 0 else '')\n",
    "    ax2.plot(rec_coords[0], abs(two.loc[src, :, :].imag), \".-\", c='.5', lw=0.5, label='2-layer' if i == 0 else '')\n",
    "    ax2.plot(rec_coords[0], abs(syn.loc[src, :, :].imag), f\"C{i}.-\", lw=0.5, label='final' if i == 0 else '')\n",
    "\n",
    "ax2.set_yscale('log')\n",
    "ax1.legend(ncol=2, framealpha=1)\n",
    "ax2.legend(ncol=2, framealpha=1)\n",
    "ax1.set_title('$|\\Re(E_x)|$ (V/m)')\n",
    "ax2.set_title('$|\\Im(E_x)|$ (V/m)');"
   ]
  },
  {
   "cell_type": "code",
   "execution_count": null,
   "id": "a070e494",
   "metadata": {},
   "outputs": [],
   "source": [
    "pg.Report('emg3d')"
   ]
  },
  {
   "cell_type": "markdown",
   "id": "5d9f4857",
   "metadata": {},
   "source": [
    "# Parking lot"
   ]
  },
  {
   "cell_type": "raw",
   "id": "c0b9d88b",
   "metadata": {},
   "source": [
    "modelVec = np.ones(fop.mesh_.cellCount())\n",
    "respVec = fop.response(modelVec)\n",
    "\n",
    "jresp = fop.J.transMult(respVec)\n",
    "jresp.shape\n",
    "\n",
    "jmodel = fop.J.mult(modelVec)\n",
    "jmodel.shape"
   ]
  },
  {
   "cell_type": "raw",
   "id": "d272a1a8",
   "metadata": {},
   "source": [
    "mesh[\"model\"] = INV.model\n",
    "pg.show(mymesh)\n",
    "mymesh.exportVTK(\"mymesh.vtk\")"
   ]
  },
  {
   "cell_type": "raw",
   "id": "89659915",
   "metadata": {},
   "source": [
    "# Setting active/passive cells would be great,\n",
    "# e.g., de-activating air and water for the inversion.\n",
    "\n",
    "# And of course other regularizations (smoothness etc).\n",
    "\n",
    "# INV.setRegularization(limits=[], correlationLengths=[...])\n",
    "# INV.setRegularization(2, fix=1e-14) # air\n",
    "# INV.setRegularization(3, fix=10.0) # water\n",
    "\n",
    "# Couldn't get that to work\n",
    "mymesh = pg.createGrid(\n",
    "    x=sim.model.grid.nodes_x,\n",
    "    y=sim.model.grid.nodes_y,\n",
    "    z=sim.model.grid.nodes_z,\n",
    ")\n",
    "\n",
    "cm = mymesh.cellMarkers()\n",
    "for c in mymesh.cells():\n",
    "    if c.center().z() > 0:  # water\n",
    "        c.setMarker(2)\n",
    "#    # elif # water\n",
    "\n",
    "fop.setMesh(mymesh)\n",
    "\n",
    "\n",
    "INV.setRegularization(2, fix=1/0.3) # water"
   ]
  }
 ],
 "metadata": {
  "hide_input": false,
  "kernelspec": {
   "display_name": "pg-emg3d",
   "language": "python",
   "name": "pg-emg3d"
  },
  "language_info": {
   "codemirror_mode": {
    "name": "ipython",
    "version": 3
   },
   "file_extension": ".py",
   "mimetype": "text/x-python",
   "name": "python",
   "nbconvert_exporter": "python",
   "pygments_lexer": "ipython3",
   "version": "3.8.16"
  },
  "toc": {
   "base_numbering": 1,
   "nav_menu": {},
   "number_sections": false,
   "sideBar": true,
   "skip_h1_title": false,
   "title_cell": "Table of Contents",
   "title_sidebar": "Contents",
   "toc_cell": false,
   "toc_position": {},
   "toc_section_display": true,
   "toc_window_display": false
  },
  "varInspector": {
   "cols": {
    "lenName": 16,
    "lenType": 16,
    "lenVar": 40
   },
   "kernels_config": {
    "python": {
     "delete_cmd_postfix": "",
     "delete_cmd_prefix": "del ",
     "library": "var_list.py",
     "varRefreshCmd": "print(var_dic_list())"
    },
    "r": {
     "delete_cmd_postfix": ") ",
     "delete_cmd_prefix": "rm(",
     "library": "var_list.r",
     "varRefreshCmd": "cat(var_dic_list()) "
    }
   },
   "position": {
    "height": "446.849px",
    "left": "931px",
    "right": "20px",
    "top": "120px",
    "width": "329px"
   },
   "types_to_exclude": [
    "module",
    "function",
    "builtin_function_or_method",
    "instance",
    "_Feature"
   ],
   "window_display": false
  }
 },
 "nbformat": 4,
 "nbformat_minor": 5
}
