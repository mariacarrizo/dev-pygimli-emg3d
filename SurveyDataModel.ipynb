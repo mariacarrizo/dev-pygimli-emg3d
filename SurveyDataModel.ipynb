{
 "cells": [
  {
   "cell_type": "markdown",
   "id": "49f2dccb",
   "metadata": {},
   "source": [
    "# Draft `pyGIMLi(emg3d)`\n",
    "\n",
    "**NEEDS**\n",
    "- `pyGIMLi`\n",
    "- `emg3d`\n",
    "- `discretize`\n",
    "- `xarray`\n",
    "- `h5py`\n",
    "\n",
    "\n",
    "An attempt at using `pyGIMLi` as an inversion framework for `emg3d` computations.\n",
    "\n",
    "For developping purposes, we take a very simple grid/model/survey:\n",
    "- Coarse mesh, no stretching (potentially too small).\n",
    "- Simple double-halfspace model water-subsurface with a resistive block.\n",
    "- Survey: A single 2D line, 5 sources (3 in the coarse one), 1 frequency.\n",
    "\n",
    "=> For this dev-implementation we also do inversion crime, using the same grid for forward modelling and inversion."
   ]
  },
  {
   "cell_type": "code",
   "execution_count": null,
   "id": "b9e884b3",
   "metadata": {},
   "outputs": [],
   "source": [
    "import emg3d\n",
    "import numpy as np\n",
    "import matplotlib.pyplot as plt\n",
    "from matplotlib.colors import LogNorm, SymLogNorm"
   ]
  },
  {
   "cell_type": "code",
   "execution_count": null,
   "id": "d5f5c77e",
   "metadata": {},
   "outputs": [],
   "source": [
    "%matplotlib notebook"
   ]
  },
  {
   "cell_type": "markdown",
   "id": "d01131f4",
   "metadata": {},
   "source": [
    "## Coarse-flag\n",
    "- Coarse model: 3 src, 57 rec, 1 freq; 32 x 16 x 16 = 8,192 cells \n",
    "- Fine model: 5 src, 57 rec, 1 freq; 64 x 32 x 32 = 65,536 cells"
   ]
  },
  {
   "cell_type": "code",
   "execution_count": null,
   "id": "2073e43e",
   "metadata": {},
   "outputs": [],
   "source": [
    "coarse = True\n",
    "#coarse = False"
   ]
  },
  {
   "cell_type": "markdown",
   "id": "6bae9abc",
   "metadata": {},
   "source": [
    "## Create a survey"
   ]
  },
  {
   "cell_type": "code",
   "execution_count": null,
   "id": "3a8fde72",
   "metadata": {},
   "outputs": [],
   "source": [
    "azimuth = 0.0\n",
    "elevation = 0.0\n",
    "\n",
    "# Receiver line\n",
    "rec_x = np.arange(-7000, 7001, 250.)\n",
    "rec_y = 0.0\n",
    "rec_z = 0.0\n",
    "rec = emg3d.surveys.txrx_coordinates_to_dict(\n",
    "        emg3d.RxElectricPoint,\n",
    "        (rec_x, rec_y, rec_z, azimuth, elevation)\n",
    ")\n",
    "\n",
    "# Sources\n",
    "if coarse:\n",
    "    src_x = np.array([-5000, 0.0, 5000])\n",
    "    src_y = 250.0\n",
    "else:\n",
    "    src_x = np.array([-5000, -2500, 0.0, 2500, 5000])\n",
    "    src_y = 125.0\n",
    "src_z = 50.0\n",
    "src = emg3d.surveys.txrx_coordinates_to_dict(\n",
    "        emg3d.TxElectricDipole,\n",
    "        (src_x, src_y, src_z, azimuth, elevation),\n",
    "        strength=1000,\n",
    ")\n",
    "\n",
    "frequencies = np.array([1.0, ])\n",
    "\n",
    "survey = emg3d.surveys.Survey(\n",
    "    sources=src,\n",
    "    receivers=rec,\n",
    "    frequencies=frequencies,\n",
    "    noise_floor=1e-15,\n",
    "    relative_error=0.05,\n",
    ")\n",
    "\n",
    "# QC\n",
    "survey"
   ]
  },
  {
   "cell_type": "markdown",
   "id": "e4edf2e9",
   "metadata": {},
   "source": [
    "## Create a simple model"
   ]
  },
  {
   "cell_type": "code",
   "execution_count": null,
   "id": "b1fb38e9",
   "metadata": {},
   "outputs": [],
   "source": [
    "if coarse:\n",
    "    hx = np.ones(32)*500.0\n",
    "    hyz = np.ones(16)*500.0\n",
    "else:\n",
    "    hx = np.ones(64)*250.0\n",
    "    hyz = np.ones(32)*250.0\n",
    "grid = emg3d.TensorMesh([hx, hyz, hyz], [-8125, -4000, -4000])\n",
    "\n",
    "# QC\n",
    "grid"
   ]
  },
  {
   "cell_type": "code",
   "execution_count": null,
   "id": "b7d36073",
   "metadata": {},
   "outputs": [],
   "source": [
    "# Initial model\n",
    "model = emg3d.Model(grid, 1.0)\n",
    "if coarse:\n",
    "    model.property_x[:, :, 8:] = 0.3\n",
    "else:\n",
    "    model.property_x[:, :, 16:] = 0.3\n",
    "\n",
    "# Model with a target\n",
    "tg_model = model.copy()\n",
    "if coarse:\n",
    "    tg_model.property_x[10:-10, 2:-2, 3:5] = 100.0\n",
    "else:\n",
    "    tg_model.property_x[22:-22, 5:-5, 8:10] = 100.0\n",
    "\n",
    "# QC, in resistivity (Ohm.m)\n",
    "popts = {'edgecolors': 'grey', 'linewidth': 0.5,\n",
    "         'cmap':'Spectral_r','norm':LogNorm(vmin=0.3, vmax=100)}\n",
    "grid.plot_3d_slicer(tg_model.property_x, pcolor_opts=popts, zslice=-1900)\n",
    "\n",
    "# Plot survey in figure above\n",
    "fig = plt.gcf()\n",
    "fig.suptitle('Resistivity model (Ohm.m) and survey layout')\n",
    "axs = fig.get_children()\n",
    "rec_coords = survey.receiver_coordinates()\n",
    "src_coords = survey.source_coordinates()\n",
    "axs[1].plot(rec_coords[0], rec_coords[1], 'bv')\n",
    "axs[2].plot(rec_coords[0], rec_coords[2], 'bv')\n",
    "axs[3].plot(rec_coords[2], rec_coords[1], 'bv')\n",
    "axs[1].plot(src_coords[0], src_coords[1], 'r*')\n",
    "axs[2].plot(src_coords[0], src_coords[2], 'r*')\n",
    "axs[3].plot(src_coords[2], src_coords[1], 'r*')\n",
    "plt.show()\n",
    "\n",
    "# QC\n",
    "tg_model"
   ]
  },
  {
   "cell_type": "markdown",
   "id": "a7461c18",
   "metadata": {},
   "source": [
    "## Generate synthetic data"
   ]
  },
  {
   "cell_type": "code",
   "execution_count": null,
   "id": "9c72eab3",
   "metadata": {},
   "outputs": [],
   "source": [
    "simulation = emg3d.simulations.Simulation(\n",
    "    survey=survey,\n",
    "    model=tg_model,\n",
    "    gridding='same',\n",
    "    max_workers=6,\n",
    "    receiver_interpolation='linear',  # Currently necessary for the gradient\n",
    "    # solver_opts,\n",
    ")\n",
    "\n",
    "# Let's QC our Simulation instance\n",
    "simulation"
   ]
  },
  {
   "cell_type": "code",
   "execution_count": null,
   "id": "6d73f831",
   "metadata": {},
   "outputs": [],
   "source": [
    "simulation.compute(observed=True, min_offset=1000)\n",
    "del survey.data['synthetic']  # Observed (with noise) remains stored"
   ]
  },
  {
   "cell_type": "code",
   "execution_count": null,
   "id": "a570e94d",
   "metadata": {},
   "outputs": [],
   "source": [
    "if coarse:\n",
    "    emg3d.save('pginv-coarse.h5', model=model, survey=survey, true_model=tg_model)\n",
    "else:\n",
    "    emg3d.save('pginv.h5', model=model, survey=survey, true_model=tg_model)"
   ]
  },
  {
   "cell_type": "markdown",
   "id": "56053ff1",
   "metadata": {},
   "source": [
    "## QC initial model"
   ]
  },
  {
   "cell_type": "code",
   "execution_count": null,
   "id": "ac930831",
   "metadata": {},
   "outputs": [],
   "source": [
    "grid.plot_3d_slicer(model.property_x, pcolor_opts=popts, zslice=-1900)\n",
    "\n",
    "# Plot survey in figure above\n",
    "fig = plt.gcf()\n",
    "fig.suptitle('Initial resistivity model (Ohm.m) and survey layout')\n",
    "axs = fig.get_children()\n",
    "axs[1].plot(rec_coords[0], rec_coords[1], 'bv')\n",
    "axs[2].plot(rec_coords[0], rec_coords[2], 'bv')\n",
    "axs[3].plot(rec_coords[2], rec_coords[1], 'bv')\n",
    "axs[1].plot(src_coords[0], src_coords[1], 'r*')\n",
    "axs[2].plot(src_coords[0], src_coords[2], 'r*')\n",
    "axs[3].plot(src_coords[2], src_coords[1], 'r*')\n",
    "plt.show()"
   ]
  },
  {
   "cell_type": "markdown",
   "id": "1ab31347",
   "metadata": {},
   "source": [
    "## Compute responses for initial model, QC that the data is sensitive to the target"
   ]
  },
  {
   "cell_type": "code",
   "execution_count": null,
   "id": "70547c09",
   "metadata": {},
   "outputs": [],
   "source": [
    "init_sim = emg3d.simulations.Simulation(\n",
    "    survey=survey,\n",
    "    model=model,\n",
    "    gridding='same',\n",
    "    max_workers=6,\n",
    "    receiver_interpolation='linear',  # Currently necessary for the gradient\n",
    "    # solver_opts,\n",
    ")\n",
    "\n",
    "init_sim.compute()\n",
    "\n",
    "plt.figure()\n",
    "plt.title(\"Inline receivers for all sources\")\n",
    "obs = init_sim.data.observed\n",
    "syn = init_sim.data.synthetic\n",
    "rec_coords = survey.receiver_coordinates()\n",
    "\n",
    "for i, src in enumerate(survey.sources.keys()):\n",
    "    plt.plot(rec_coords[0], abs(obs.loc[src, :, :].data), \"ko\", label='observed' if i == 0 else '')\n",
    "    plt.plot(rec_coords[0], abs(syn.loc[src, :, :].data), f\"C{i}.-\", lw=0.5, label='initial' if i == 0 else '')\n",
    "\n",
    "plt.yscale('log')\n",
    "plt.legend(ncol=2, framealpha=1)\n",
    "plt.xlabel('x-coordinate (m)')\n",
    "plt.ylabel('$|E_x|$ (V/m)')\n",
    "plt.show()"
   ]
  },
  {
   "cell_type": "code",
   "execution_count": null,
   "id": "919eacca",
   "metadata": {},
   "outputs": [],
   "source": [
    "emg3d.Report()"
   ]
  }
 ],
 "metadata": {
  "kernelspec": {
   "display_name": "pg-emg3d",
   "language": "python",
   "name": "pg-emg3d"
  },
  "language_info": {
   "codemirror_mode": {
    "name": "ipython",
    "version": 3
   },
   "file_extension": ".py",
   "mimetype": "text/x-python",
   "name": "python",
   "nbconvert_exporter": "python",
   "pygments_lexer": "ipython3",
   "version": "3.8.16"
  }
 },
 "nbformat": 4,
 "nbformat_minor": 5
}
